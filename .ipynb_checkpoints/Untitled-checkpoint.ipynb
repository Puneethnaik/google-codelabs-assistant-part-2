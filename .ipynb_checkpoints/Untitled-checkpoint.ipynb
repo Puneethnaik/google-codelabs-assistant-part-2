{
 "cells": [
  {
   "cell_type": "code",
   "execution_count": 171,
   "metadata": {},
   "outputs": [],
   "source": [
    "#import packages\n",
    "import numpy as np\n",
    "import pandas as pd\n",
    "from sklearn.preprocessing import LabelEncoder\n",
    "from sklearn.naive_bayes import GaussianNB\n",
    "\n",
    "class Model:\n",
    "    \n",
    "    def preprocess(self):\n",
    "        self.df = pd.read_csv(\"/home/puneeth/Downloads/event_data.csv\")\n",
    "        self.df_1 = self.df.copy()\n",
    "        l = LabelEncoder()\n",
    "        self.df_1[\"gender\"] = l.fit_transform(self.df[\"gender\"])\n",
    "        self.df_1[\"mood\"] = l.fit_transform(self.df[\"mood\"])\n",
    "        self.df_1[\"event\"] = l.fit_transform(self.df[\"event\"])\n",
    "        self.X = self.df_1.loc[:, self.df_1.columns != 'event']\n",
    "        self.Y = self.df_1[\"event\"]\n",
    "    \n",
    "\n",
    "\n",
    "\n",
    "    def train(self):\n",
    "        self.clf = GaussianNB()\n",
    "        self.clf.fit(self.X, self.Y)\n",
    "\n",
    "    def predict(self, X):\n",
    "        l_gender = LabelEncoder()\n",
    "        l_gender.fit(self.df[\"gender\"])\n",
    "        X[1] = l_gender.transform([X[1]])\n",
    "        l_mood = LabelEncoder()\n",
    "        l_mood.fit(self.df[\"mood\"])\n",
    "        X[2] = l_mood.transform([X[2]])\n",
    "\n",
    "        l_event = LabelEncoder()\n",
    "        l_event.fit(self.df[\"event\"])\n",
    "        indices = []\n",
    "        choices = self.clf.predict_proba([X]).tolist()[0]\n",
    "        for i in range(len(choices)):\n",
    "            item = choices[i]\n",
    "            print(item)\n",
    "            if item > 0:\n",
    "                indices.append([item, i])\n",
    "        indices.sort()\n",
    "        indices.reverse()\n",
    "        print(str(indices[0][1]) + \"hd\")\n",
    "        print(list(l_event.inverse_transform([indices[0][1], indices[1][1]])))\n",
    "        #print(str(self.X[1]) + \"->\" + str(enc_gender))\n",
    "        return indices\n",
    "\n",
    "\n",
    "\n",
    "# predict([25, 'F', 'good'])"
   ]
  },
  {
   "cell_type": "code",
   "execution_count": 172,
   "metadata": {},
   "outputs": [
    {
     "name": "stdout",
     "output_type": "stream",
     "text": [
      "0.0\n",
      "0.0\n",
      "0.0\n",
      "0.0\n",
      "0.0\n",
      "0.28198793081366674\n",
      "0.7180120691863333\n",
      "0.0\n",
      "0.0\n",
      "0.0\n",
      "0.0\n",
      "0.0\n",
      "0.0\n",
      "6hd\n",
      "['hackathon', 'drawing competition']\n"
     ]
    },
    {
     "data": {
      "text/plain": [
       "[[0.7180120691863333, 6], [0.28198793081366674, 5]]"
      ]
     },
     "execution_count": 172,
     "metadata": {},
     "output_type": "execute_result"
    }
   ],
   "source": [
    "model = Model()\n",
    "model.preprocess()\n",
    "model.train()\n",
    "model.predict([21, 'M', 'creative'])"
   ]
  },
  {
   "cell_type": "code",
   "execution_count": null,
   "metadata": {
    "collapsed": true
   },
   "outputs": [],
   "source": []
  },
  {
   "cell_type": "code",
   "execution_count": null,
   "metadata": {
    "collapsed": true
   },
   "outputs": [],
   "source": []
  }
 ],
 "metadata": {
  "kernelspec": {
   "display_name": "Python 3",
   "language": "python",
   "name": "python3"
  },
  "language_info": {
   "codemirror_mode": {
    "name": "ipython",
    "version": 3
   },
   "file_extension": ".py",
   "mimetype": "text/x-python",
   "name": "python",
   "nbconvert_exporter": "python",
   "pygments_lexer": "ipython3",
   "version": "3.6.3"
  }
 },
 "nbformat": 4,
 "nbformat_minor": 2
}
